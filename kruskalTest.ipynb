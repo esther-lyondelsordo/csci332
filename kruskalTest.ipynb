{
 "cells": [
  {
   "cell_type": "code",
   "execution_count": 1,
   "id": "8750a72c",
   "metadata": {},
   "outputs": [
    {
     "name": "stdout",
     "output_type": "stream",
     "text": [
      "[[0 0 0 3]\n",
      " [0 0 2 5]\n",
      " [0 0 0 0]\n",
      " [0 0 0 0]]\n",
      "<class 'numpy.ndarray'>\n"
     ]
    }
   ],
   "source": [
    "# Import your class (it should be in same directly as this file)\n",
    "import kruskalClass\n",
    "\n",
    "# Import numpy\n",
    "import numpy as np\n",
    "\n",
    "# Instantiate an object for your class.\n",
    "obj = kruskalClass.kruskalClass()\n",
    "\n",
    "# Create a test matrix\n",
    "A = np.array([[0, 8, 0, 3], [0, 0, 2, 5], [0, 0, 0, 6], [0, 0, 0, 0]])\n",
    "\n",
    "# Use code to generate a MST\n",
    "T = obj.findMinimumSpanningTree(A)\n",
    "\n",
    "# Print the MST\n",
    "print(T)\n",
    "print(type(T))"
   ]
  },
  {
   "cell_type": "code",
   "execution_count": 2,
   "id": "0d0a35c9",
   "metadata": {},
   "outputs": [
    {
     "name": "stdout",
     "output_type": "stream",
     "text": [
      "{0: array([0]), 1: array([1]), 2: array([2]), 3: array([3]), 4: array([4])}\n"
     ]
    }
   ],
   "source": [
    "# Now we will test union-find code. Make a union-find structure for a graph with 5 nodes.\n",
    "# Note that in 'u' each node has a 2-dimensional numpy array associated with it\n",
    "# The first entry is a pointer.  If the pointer and the key are the same, then\n",
    "# ...the name of the set to which the node belongs is itself.\n",
    "# The second entry in each numpy array is a count of the number of pointers that point\n",
    "# to the given node.  This is not part of the API, but I found it useful.\n",
    "n = 5\n",
    "u = obj.makeUnionFind(n)\n",
    "print(u)"
   ]
  },
  {
   "cell_type": "code",
   "execution_count": 3,
   "id": "9b273771",
   "metadata": {},
   "outputs": [
    {
     "name": "stdout",
     "output_type": "stream",
     "text": [
      "2\n",
      "4\n"
     ]
    }
   ],
   "source": [
    "# If we run the 'find' it returns the index\n",
    "# that was provided as input\n",
    "s1 = obj.find(u, 2)\n",
    "print(s1)\n",
    "s2 = obj.find(u, 4)\n",
    "print(s2)"
   ]
  },
  {
   "cell_type": "code",
   "execution_count": 4,
   "id": "ea97e0d1",
   "metadata": {},
   "outputs": [
    {
     "name": "stdout",
     "output_type": "stream",
     "text": [
      "1\n",
      "{0: array([1]), 1: array([1, 0]), 2: array([2]), 3: array([3]), 4: array([4])}\n",
      "{0: array([1]), 1: array([1, 0, 2]), 2: array([1]), 3: array([3]), 4: array([4])}\n"
     ]
    }
   ],
   "source": [
    "# Now we can try doing some union operations\n",
    "# Combine the sets for nodes 0 and 1\n",
    "u1 = obj.union(u, obj.find(u, 0), obj.find(u, 1))\n",
    "print(obj.find(u1, 0))\n",
    "print(u1)\n",
    "u2 = obj.union(u, obj.find(u1, 0), obj.find(u1, 2))\n",
    "print(u2)\n",
    "\n",
    "# Notice that the set '2' takes the name of the larger set,\n",
    "# which is composed of {0,1} from the first merging operation.\n",
    "# When doing the second union operation, your code should always give node '2'\n",
    "# the name obj.find(0) (which may be '1' or '0' depending upon your implementation)\n",
    "# because it is the larger set"
   ]
  },
  {
   "cell_type": "code",
   "execution_count": null,
   "id": "ccc314d4",
   "metadata": {},
   "outputs": [],
   "source": []
  },
  {
   "cell_type": "code",
   "execution_count": null,
   "id": "2cd89ea8",
   "metadata": {},
   "outputs": [],
   "source": []
  }
 ],
 "metadata": {
  "kernelspec": {
   "display_name": "Python 3.9.12 ('base')",
   "language": "python",
   "name": "python3"
  },
  "language_info": {
   "codemirror_mode": {
    "name": "ipython",
    "version": 3
   },
   "file_extension": ".py",
   "mimetype": "text/x-python",
   "name": "python",
   "nbconvert_exporter": "python",
   "pygments_lexer": "ipython3",
   "version": "3.9.12"
  },
  "vscode": {
   "interpreter": {
    "hash": "ad2bdc8ecc057115af97d19610ffacc2b4e99fae6737bb82f5d7fb13d2f2c186"
   }
  }
 },
 "nbformat": 4,
 "nbformat_minor": 5
}
