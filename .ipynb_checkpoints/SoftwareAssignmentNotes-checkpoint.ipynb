{
 "cells": [
  {
   "cell_type": "code",
   "execution_count": 1,
   "id": "00591433",
   "metadata": {},
   "outputs": [],
   "source": [
    "import numpy as np\n",
    "import matplotlib.pyplot as plt\n",
    "import math"
   ]
  },
  {
   "cell_type": "code",
   "execution_count": 52,
   "id": "aa5b4e8e",
   "metadata": {},
   "outputs": [],
   "source": [
    "def merge(left, right):\n",
    "    arr = np.array([])\n",
    "\n",
    "    # append the smallest element from each array until one is empty\n",
    "    while len(left) != 0 and len(right) != 0:\n",
    "        if left[0] > right[0]:\n",
    "            arr = np.append(arr, right[0])\n",
    "            right = np.delete(right, 0)\n",
    "        else:\n",
    "            arr = np.append(arr, left[0])\n",
    "            left = np.delete(left, 0)\n",
    "\n",
    "    # If right is empty, we need to handle rest of left\n",
    "    while len(left) != 0:\n",
    "        arr = np.append(arr, left[0])\n",
    "        left = np.delete(left, 0)\n",
    "\n",
    "    # If left is empty, we need to handle rest of right\n",
    "    while len(right) != 0:\n",
    "        arr = np.append(arr, right[0])\n",
    "        right = np.delete(right, 0)\n",
    "\n",
    "    return arr\n",
    "\n",
    "# recursive mergesort algorithm\n",
    "def mergesort(a):\n",
    "    # Sort the values in array ‘a’ and return the sorted array ‘b’.\n",
    "    n = len(a)\n",
    "\n",
    "    # base case\n",
    "    if n == 1:\n",
    "        return a\n",
    "\n",
    "    # define some values\n",
    "    lo = 0\n",
    "    hi = n - 1\n",
    "    mid = lo + hi // 2\n",
    "\n",
    "    # build subarrays\n",
    "    left = a[lo:mid+1]\n",
    "    right = a[mid + 1 : hi+1]\n",
    "\n",
    "    # sort subarrays recursively\n",
    "    left = mergesort(left)\n",
    "    right = mergesort(right)\n",
    "\n",
    "    return merge(left, right)"
   ]
  },
  {
   "cell_type": "code",
   "execution_count": 7,
   "id": "e757a7b7",
   "metadata": {},
   "outputs": [],
   "source": [
    "A = np.array([9,4,5,10])"
   ]
  },
  {
   "cell_type": "code",
   "execution_count": 8,
   "id": "1f3af0b0",
   "metadata": {},
   "outputs": [
    {
     "name": "stdout",
     "output_type": "stream",
     "text": [
      "Starting merge\n",
      "first while loop\n",
      "second while loop\n",
      "Starting merge\n",
      "first while loop\n",
      "third while loop\n",
      "Starting merge\n",
      "first while loop\n",
      "first while loop\n",
      "first while loop\n",
      "third while loop\n"
     ]
    },
    {
     "data": {
      "text/plain": [
       "array([ 4.,  5.,  9., 10.])"
      ]
     },
     "execution_count": 8,
     "metadata": {},
     "output_type": "execute_result"
    }
   ],
   "source": [
    "Q = mergesort(A)\n",
    "Q"
   ]
  },
  {
   "cell_type": "code",
   "execution_count": 38,
   "id": "6fbf9b9a",
   "metadata": {},
   "outputs": [
    {
     "name": "stdout",
     "output_type": "stream",
     "text": [
      "{1: array([1]), 2: array([2]), 3: array([3]), 4: array([4])}\n"
     ]
    }
   ],
   "source": [
    "N = 4\n",
    "arrayOfNodes = np.array(range(1,N+1))\n",
    "newArray = np.split(arrayOfNodes, N)\n",
    "u = dict(list(enumerate(newArray, start = 1)))\n",
    "print(u)"
   ]
  },
  {
   "cell_type": "code",
   "execution_count": 8,
   "id": "acbc5411",
   "metadata": {},
   "outputs": [
    {
     "name": "stdout",
     "output_type": "stream",
     "text": [
      "{1: 1, 2: 2, 3: 3, 4: 4}\n"
     ]
    }
   ],
   "source": [
    "N = 4\n",
    "u = dict(list(enumerate(range(1,N+1), start = 1)))\n",
    "print(u)"
   ]
  },
  {
   "cell_type": "code",
   "execution_count": 54,
   "id": "735dbb67",
   "metadata": {},
   "outputs": [
    {
     "name": "stdout",
     "output_type": "stream",
     "text": [
      "0\n",
      "1\n"
     ]
    }
   ],
   "source": [
    "A = np.array([[0, 8, 0, 3],\n",
    "                [0, 0, 2, 5],\n",
    "                [0, 0, 0, 6],\n",
    "                [0, 0, 0, 0]])\n",
    "x,y = np.where(A==8)\n",
    "print(x[0])\n",
    "print(y[0])"
   ]
  },
  {
   "cell_type": "code",
   "execution_count": 91,
   "id": "824d2357",
   "metadata": {},
   "outputs": [],
   "source": [
    "def makeUnionFind(N):\n",
    "        # Make one big array of all of the nodes, named 0 to N-1\n",
    "        arrayOfNodes = np.array(range(N))\n",
    "\n",
    "        # Split the array into an array of arrays\n",
    "        newArray = np.split(arrayOfNodes, N)\n",
    "\n",
    "        # use the new array to make a dictionary,\n",
    "        # each key is the same number as the single array entry value\n",
    "        u = dict(list(enumerate(newArray, start=0)))\n",
    "\n",
    "        # If two nodes are connected, assign the parent to the representative node\n",
    "        return u\n",
    "\n",
    "def union(u_in, s1, s2):\n",
    "        # find the which set is smaller, rename sets for DRY code\n",
    "        if len(u_in[s1]) <= len(u_in[s2]):\n",
    "            small = s1\n",
    "            big = s2\n",
    "        else:\n",
    "            small = s2\n",
    "            big = s1\n",
    "\n",
    "        # copy elements of smaller set into larger set\n",
    "        u_in[big] = np.append(u_in[big], u_in[small][0:])\n",
    "\n",
    "        # change root of all elements in smaller set to root of larger set\n",
    "        for i in range(len(u_in[small])):\n",
    "            temp = u_in[small][i]\n",
    "            u_in[temp][0] = u_in[big][0]\n",
    "\n",
    "        # change name of smaller to name of larger set\n",
    "        u_in[small][0] = u_in[big][0]\n",
    "\n",
    "        # return the updated union-find data structure\n",
    "        u_out = u_in\n",
    "        return u_out\n",
    "\n",
    "def find(u, v):\n",
    "        s = -1\n",
    "        # the first element of the array at index v is the name of the root of that set\n",
    "        s = u.get(v)\n",
    "        return s[0]\n",
    "    \n",
    "def findMinimumSpanningTree(A):\n",
    "        n = len(A[0])  # number of nodes in A\n",
    "        T = np.zeros_like(A)  # the Tree to output, initialized to zeros\n",
    "        u = makeUnionFind(n)\n",
    "\n",
    "        # make weights into a 1D array and sort the edge weights\n",
    "        weights = np.array([])\n",
    "        weights = np.append(weights, A[0:])\n",
    "        weights = mergesort(weights)\n",
    "\n",
    "        # Loop through weights, check if added already\n",
    "        # if added, skip to next weight, if not,\n",
    "        # union the nodes of that edge and add the edge to T\n",
    "        i = 0\n",
    "        numChecked = 0\n",
    "        numWeights = np.count_nonzero(weights)\n",
    "        while numChecked <= numWeights:\n",
    "            w = weights[i]\n",
    "            node1, node2 = np.where(A == w)\n",
    "            if w != 0:\n",
    "                print(\"u.get(node1)\", u.get(node1))\n",
    "                if find(u, node1) != kruskalClass.find(\n",
    "                    self, u, node2\n",
    "                ):\n",
    "                    T[node1][node2] = w\n",
    "                    u = union(u, node1, node2)\n",
    "                    numChecked += 1\n",
    "            i += 1\n",
    "\n",
    "        return T"
   ]
  },
  {
   "cell_type": "code",
   "execution_count": 92,
   "id": "d0b0f2e2",
   "metadata": {},
   "outputs": [
    {
     "data": {
      "text/plain": [
       "{0: array([0]), 1: array([1]), 2: array([2]), 3: array([3]), 4: array([4])}"
      ]
     },
     "execution_count": 92,
     "metadata": {},
     "output_type": "execute_result"
    }
   ],
   "source": [
    "u = makeUnionFind(5)\n",
    "u"
   ]
  },
  {
   "cell_type": "code",
   "execution_count": 93,
   "id": "96d43bdd",
   "metadata": {},
   "outputs": [
    {
     "data": {
      "text/plain": [
       "{0: array([0]), 1: array([2]), 2: array([2, 1]), 3: array([3]), 4: array([4])}"
      ]
     },
     "execution_count": 93,
     "metadata": {},
     "output_type": "execute_result"
    }
   ],
   "source": [
    "q = union(u,1,2)\n",
    "q"
   ]
  },
  {
   "cell_type": "code",
   "execution_count": 94,
   "id": "c324be45",
   "metadata": {},
   "outputs": [
    {
     "data": {
      "text/plain": [
       "numpy.ndarray"
      ]
     },
     "execution_count": 94,
     "metadata": {},
     "output_type": "execute_result"
    }
   ],
   "source": [
    "type(u.get(2))"
   ]
  },
  {
   "cell_type": "code",
   "execution_count": 95,
   "id": "6999b95f",
   "metadata": {},
   "outputs": [
    {
     "data": {
      "text/plain": [
       "numpy.ndarray"
      ]
     },
     "execution_count": 95,
     "metadata": {},
     "output_type": "execute_result"
    }
   ],
   "source": [
    "type(A[0])"
   ]
  },
  {
   "cell_type": "code",
   "execution_count": 96,
   "id": "6e9f520f",
   "metadata": {},
   "outputs": [
    {
     "ename": "TypeError",
     "evalue": "unhashable type: 'numpy.ndarray'",
     "output_type": "error",
     "traceback": [
      "\u001b[1;31m---------------------------------------------------------------------------\u001b[0m",
      "\u001b[1;31mTypeError\u001b[0m                                 Traceback (most recent call last)",
      "Input \u001b[1;32mIn [96]\u001b[0m, in \u001b[0;36m<cell line: 1>\u001b[1;34m()\u001b[0m\n\u001b[1;32m----> 1\u001b[0m T \u001b[38;5;241m=\u001b[39m \u001b[43mfindMinimumSpanningTree\u001b[49m\u001b[43m(\u001b[49m\u001b[43mA\u001b[49m\u001b[43m)\u001b[49m\n",
      "Input \u001b[1;32mIn [91]\u001b[0m, in \u001b[0;36mfindMinimumSpanningTree\u001b[1;34m(A)\u001b[0m\n\u001b[0;32m     63\u001b[0m node1, node2 \u001b[38;5;241m=\u001b[39m np\u001b[38;5;241m.\u001b[39mwhere(A \u001b[38;5;241m==\u001b[39m w)\n\u001b[0;32m     64\u001b[0m \u001b[38;5;28;01mif\u001b[39;00m w \u001b[38;5;241m!=\u001b[39m \u001b[38;5;241m0\u001b[39m:\n\u001b[1;32m---> 65\u001b[0m     \u001b[38;5;28mprint\u001b[39m(\u001b[38;5;124m\"\u001b[39m\u001b[38;5;124mu.get(node1)\u001b[39m\u001b[38;5;124m\"\u001b[39m, \u001b[43mu\u001b[49m\u001b[38;5;241;43m.\u001b[39;49m\u001b[43mget\u001b[49m\u001b[43m(\u001b[49m\u001b[43mnode1\u001b[49m\u001b[43m)\u001b[49m)\n\u001b[0;32m     66\u001b[0m     \u001b[38;5;28;01mif\u001b[39;00m find(u, node1) \u001b[38;5;241m!=\u001b[39m kruskalClass\u001b[38;5;241m.\u001b[39mfind(\n\u001b[0;32m     67\u001b[0m         \u001b[38;5;28mself\u001b[39m, u, node2\n\u001b[0;32m     68\u001b[0m     ):\n\u001b[0;32m     69\u001b[0m         T[node1][node2] \u001b[38;5;241m=\u001b[39m w\n",
      "\u001b[1;31mTypeError\u001b[0m: unhashable type: 'numpy.ndarray'"
     ]
    }
   ],
   "source": [
    "T = findMinimumSpanningTree(A)"
   ]
  },
  {
   "cell_type": "code",
   "execution_count": 74,
   "id": "431926d7",
   "metadata": {},
   "outputs": [
    {
     "data": {
      "text/plain": [
       "4"
      ]
     },
     "execution_count": 74,
     "metadata": {},
     "output_type": "execute_result"
    }
   ],
   "source": [
    "len(A[0])"
   ]
  },
  {
   "cell_type": "code",
   "execution_count": 81,
   "id": "7a3f2725",
   "metadata": {},
   "outputs": [
    {
     "data": {
      "text/plain": [
       "0"
      ]
     },
     "execution_count": 81,
     "metadata": {},
     "output_type": "execute_result"
    }
   ],
   "source": [
    "weights = np.array([])\n",
    "weights = np.append(weights, A[0:])\n",
    "weights = mergesort(weights)\n",
    "int(weights[0])"
   ]
  },
  {
   "cell_type": "code",
   "execution_count": 87,
   "id": "307ab67b",
   "metadata": {},
   "outputs": [
    {
     "data": {
      "text/plain": [
       "1"
      ]
     },
     "execution_count": 87,
     "metadata": {},
     "output_type": "execute_result"
    }
   ],
   "source": [
    "f = find(u, 1)\n",
    "f"
   ]
  },
  {
   "cell_type": "markdown",
   "id": "db0c01ea",
   "metadata": {},
   "source": [
    "# SA #2"
   ]
  },
  {
   "cell_type": "code",
   "execution_count": 7,
   "id": "98b40854",
   "metadata": {},
   "outputs": [
    {
     "data": {
      "text/plain": [
       "<matplotlib.image.AxesImage at 0x1bee5022550>"
      ]
     },
     "execution_count": 7,
     "metadata": {},
     "output_type": "execute_result"
    },
    {
     "data": {
      "image/png": "[encoded data removed]",
      "text/plain": [
       "<Figure size 432x288 with 1 Axes>"
      ]
     },
     "metadata": {
      "needs_background": "light"
     },
     "output_type": "display_data"
    }
   ],
   "source": [
    "img = plt.imread('Louisfjellet25pixel.jpg')\n",
    "plt.imshow(img)"
   ]
  },
  {
   "cell_type": "code",
   "execution_count": 8,
   "id": "de5a5248",
   "metadata": {},
   "outputs": [
    {
     "data": {
      "text/plain": [
       "array([153, 196, 213], dtype=uint8)"
      ]
     },
     "execution_count": 8,
     "metadata": {},
     "output_type": "execute_result"
    }
   ],
   "source": [
    "img[0][0]"
   ]
  },
  {
   "cell_type": "code",
   "execution_count": 1,
   "id": "0a81bccc",
   "metadata": {},
   "outputs": [
    {
     "name": "stdout",
     "output_type": "stream",
     "text": [
      "k:  0\n",
      "k:  1\n",
      "k:  2\n",
      "k:  3\n",
      "k:  4\n",
      "k:  5\n",
      "k:  6\n",
      "k:  7\n",
      "k:  8\n",
      "k:  9\n",
      "k:  10\n"
     ]
    },
    {
     "ename": "TypeError",
     "evalue": "'numpy.float64' object cannot be interpreted as an integer",
     "output_type": "error",
     "traceback": [
      "\u001b[1;31m---------------------------------------------------------------------------\u001b[0m",
      "\u001b[1;31mTypeError\u001b[0m                                 Traceback (most recent call last)",
      "Input \u001b[1;32mIn [1]\u001b[0m, in \u001b[0;36m<cell line: 38>\u001b[1;34m()\u001b[0m\n\u001b[0;32m     31\u001b[0m sc \u001b[38;5;241m=\u001b[39m segmentationClass\u001b[38;5;241m.\u001b[39msegmentationClass(\n\u001b[0;32m     32\u001b[0m     p0\u001b[38;5;241m=\u001b[39m\u001b[38;5;241m1\u001b[39m,  \u001b[38;5;66;03m# neigbor penalty\u001b[39;00m\n\u001b[0;32m     33\u001b[0m     x_a\u001b[38;5;241m=\u001b[39mnp\u001b[38;5;241m.\u001b[39marray([\u001b[38;5;241m2\u001b[39m, \u001b[38;5;241m2\u001b[39m]),  \u001b[38;5;66;03m# Foreground pixel position\u001b[39;00m\n\u001b[0;32m     34\u001b[0m     x_b\u001b[38;5;241m=\u001b[39mnp\u001b[38;5;241m.\u001b[39marray([\u001b[38;5;241m0\u001b[39m, \u001b[38;5;241m0\u001b[39m]),  \u001b[38;5;66;03m# Background pixel\u001b[39;00m\n\u001b[0;32m     35\u001b[0m )\n\u001b[0;32m     37\u001b[0m \u001b[38;5;66;03m# segment the image\u001b[39;00m\n\u001b[1;32m---> 38\u001b[0m newI \u001b[38;5;241m=\u001b[39m \u001b[43msc\u001b[49m\u001b[38;5;241;43m.\u001b[39;49m\u001b[43msegmentImage\u001b[49m\u001b[43m(\u001b[49m\u001b[43mI\u001b[49m\u001b[43m)\u001b[49m\n\u001b[0;32m     40\u001b[0m \u001b[38;5;66;03m# Plot results\u001b[39;00m\n\u001b[0;32m     41\u001b[0m fig, axs \u001b[38;5;241m=\u001b[39m plt\u001b[38;5;241m.\u001b[39msubplots(\u001b[38;5;241m1\u001b[39m, \u001b[38;5;241m2\u001b[39m)\n",
      "File \u001b[1;32m~\\Documents\\csci332\\segmentationClass.py:106\u001b[0m, in \u001b[0;36msegmentationClass.segmentImage\u001b[1;34m(self, I)\u001b[0m\n\u001b[0;32m    102\u001b[0m     sink\u001b[38;5;241m.\u001b[39medgesIn\u001b[38;5;241m.\u001b[39mappend(node\u001b[38;5;241m.\u001b[39mkey)\n\u001b[0;32m    104\u001b[0m     \u001b[38;5;66;03m# set capacities on edges from source and to sink\u001b[39;00m\n\u001b[0;32m    105\u001b[0m     source\u001b[38;5;241m.\u001b[39mcapacities[node\u001b[38;5;241m.\u001b[39mkey] \u001b[38;5;241m=\u001b[39m [\n\u001b[1;32m--> 106\u001b[0m         \u001b[38;5;28;43mself\u001b[39;49m\u001b[38;5;241;43m.\u001b[39;49m\u001b[43mforegroundProb\u001b[49m\u001b[43m(\u001b[49m\u001b[43mnode\u001b[49m\u001b[43m,\u001b[49m\u001b[43m \u001b[49m\u001b[43mG\u001b[49m\u001b[43m)\u001b[49m,\n\u001b[0;32m    107\u001b[0m         \u001b[38;5;241m0\u001b[39m,\n\u001b[0;32m    108\u001b[0m     ]\n\u001b[0;32m    109\u001b[0m     sink\u001b[38;5;241m.\u001b[39mcapacities[node\u001b[38;5;241m.\u001b[39mkey] \u001b[38;5;241m=\u001b[39m [\n\u001b[0;32m    110\u001b[0m         \u001b[38;5;241m0\u001b[39m,\n\u001b[0;32m    111\u001b[0m         \u001b[38;5;28mself\u001b[39m\u001b[38;5;241m.\u001b[39mbackgroundProb(node, G),\n\u001b[0;32m    112\u001b[0m     ]\n\u001b[0;32m    114\u001b[0m \u001b[38;5;66;03m# Initialize redsidual graph\u001b[39;00m\n",
      "File \u001b[1;32m~\\Documents\\csci332\\segmentationClass.py:214\u001b[0m, in \u001b[0;36msegmentationClass.foregroundProb\u001b[1;34m(self, x, G)\u001b[0m\n\u001b[0;32m    212\u001b[0m \u001b[38;5;28;01mdef\u001b[39;00m \u001b[38;5;21mforegroundProb\u001b[39m(\u001b[38;5;28mself\u001b[39m, x, G):\n\u001b[0;32m    213\u001b[0m     N \u001b[38;5;241m=\u001b[39m np\u001b[38;5;241m.\u001b[39msqrt(\u001b[38;5;28mlen\u001b[39m(G) \u001b[38;5;241m-\u001b[39m \u001b[38;5;241m2\u001b[39m)\n\u001b[1;32m--> 214\u001b[0m     Grid \u001b[38;5;241m=\u001b[39m \u001b[43mnp\u001b[49m\u001b[38;5;241;43m.\u001b[39;49m\u001b[43mreshape\u001b[49m\u001b[43m(\u001b[49m\u001b[43mG\u001b[49m\u001b[43m,\u001b[49m\u001b[43m \u001b[49m\u001b[43m(\u001b[49m\u001b[38;5;241;43m-\u001b[39;49m\u001b[38;5;241;43m1\u001b[39;49m\u001b[43m,\u001b[49m\u001b[43m \u001b[49m\u001b[43mN\u001b[49m\u001b[43m)\u001b[49m\u001b[43m)\u001b[49m\n\u001b[0;32m    215\u001b[0m     x_a_key \u001b[38;5;241m=\u001b[39m Grid[\u001b[38;5;28mself\u001b[39m\u001b[38;5;241m.\u001b[39mx_a[\u001b[38;5;241m0\u001b[39m], \u001b[38;5;28mself\u001b[39m\u001b[38;5;241m.\u001b[39mx_a[\u001b[38;5;241m1\u001b[39m]]\u001b[38;5;241m.\u001b[39mkey\n\u001b[0;32m    216\u001b[0m     d \u001b[38;5;241m=\u001b[39m np\u001b[38;5;241m.\u001b[39mround(np\u001b[38;5;241m.\u001b[39msqrt(((Grid[x_a_key]\u001b[38;5;241m.\u001b[39mrgb \u001b[38;5;241m-\u001b[39m x\u001b[38;5;241m.\u001b[39mrgb) \u001b[38;5;241m*\u001b[39m\u001b[38;5;241m*\u001b[39m \u001b[38;5;241m2\u001b[39m)\u001b[38;5;241m.\u001b[39msum()))\n",
      "File \u001b[1;32m<__array_function__ internals>:5\u001b[0m, in \u001b[0;36mreshape\u001b[1;34m(*args, **kwargs)\u001b[0m\n",
      "File \u001b[1;32mC:\\ProgramData\\Anaconda3\\lib\\site-packages\\numpy\\core\\fromnumeric.py:298\u001b[0m, in \u001b[0;36mreshape\u001b[1;34m(a, newshape, order)\u001b[0m\n\u001b[0;32m    198\u001b[0m \u001b[38;5;129m@array_function_dispatch\u001b[39m(_reshape_dispatcher)\n\u001b[0;32m    199\u001b[0m \u001b[38;5;28;01mdef\u001b[39;00m \u001b[38;5;21mreshape\u001b[39m(a, newshape, order\u001b[38;5;241m=\u001b[39m\u001b[38;5;124m'\u001b[39m\u001b[38;5;124mC\u001b[39m\u001b[38;5;124m'\u001b[39m):\n\u001b[0;32m    200\u001b[0m     \u001b[38;5;124;03m\"\"\"\u001b[39;00m\n\u001b[0;32m    201\u001b[0m \u001b[38;5;124;03m    Gives a new shape to an array without changing its data.\u001b[39;00m\n\u001b[0;32m    202\u001b[0m \n\u001b[1;32m   (...)\u001b[0m\n\u001b[0;32m    296\u001b[0m \u001b[38;5;124;03m           [5, 6]])\u001b[39;00m\n\u001b[0;32m    297\u001b[0m \u001b[38;5;124;03m    \"\"\"\u001b[39;00m\n\u001b[1;32m--> 298\u001b[0m     \u001b[38;5;28;01mreturn\u001b[39;00m \u001b[43m_wrapfunc\u001b[49m\u001b[43m(\u001b[49m\u001b[43ma\u001b[49m\u001b[43m,\u001b[49m\u001b[43m \u001b[49m\u001b[38;5;124;43m'\u001b[39;49m\u001b[38;5;124;43mreshape\u001b[39;49m\u001b[38;5;124;43m'\u001b[39;49m\u001b[43m,\u001b[49m\u001b[43m \u001b[49m\u001b[43mnewshape\u001b[49m\u001b[43m,\u001b[49m\u001b[43m \u001b[49m\u001b[43morder\u001b[49m\u001b[38;5;241;43m=\u001b[39;49m\u001b[43morder\u001b[49m\u001b[43m)\u001b[49m\n",
      "File \u001b[1;32mC:\\ProgramData\\Anaconda3\\lib\\site-packages\\numpy\\core\\fromnumeric.py:54\u001b[0m, in \u001b[0;36m_wrapfunc\u001b[1;34m(obj, method, *args, **kwds)\u001b[0m\n\u001b[0;32m     52\u001b[0m bound \u001b[38;5;241m=\u001b[39m \u001b[38;5;28mgetattr\u001b[39m(obj, method, \u001b[38;5;28;01mNone\u001b[39;00m)\n\u001b[0;32m     53\u001b[0m \u001b[38;5;28;01mif\u001b[39;00m bound \u001b[38;5;129;01mis\u001b[39;00m \u001b[38;5;28;01mNone\u001b[39;00m:\n\u001b[1;32m---> 54\u001b[0m     \u001b[38;5;28;01mreturn\u001b[39;00m _wrapit(obj, method, \u001b[38;5;241m*\u001b[39margs, \u001b[38;5;241m*\u001b[39m\u001b[38;5;241m*\u001b[39mkwds)\n\u001b[0;32m     56\u001b[0m \u001b[38;5;28;01mtry\u001b[39;00m:\n\u001b[0;32m     57\u001b[0m     \u001b[38;5;28;01mreturn\u001b[39;00m bound(\u001b[38;5;241m*\u001b[39margs, \u001b[38;5;241m*\u001b[39m\u001b[38;5;241m*\u001b[39mkwds)\n",
      "File \u001b[1;32mC:\\ProgramData\\Anaconda3\\lib\\site-packages\\numpy\\core\\fromnumeric.py:43\u001b[0m, in \u001b[0;36m_wrapit\u001b[1;34m(obj, method, *args, **kwds)\u001b[0m\n\u001b[0;32m     41\u001b[0m \u001b[38;5;28;01mexcept\u001b[39;00m \u001b[38;5;167;01mAttributeError\u001b[39;00m:\n\u001b[0;32m     42\u001b[0m     wrap \u001b[38;5;241m=\u001b[39m \u001b[38;5;28;01mNone\u001b[39;00m\n\u001b[1;32m---> 43\u001b[0m result \u001b[38;5;241m=\u001b[39m \u001b[38;5;28mgetattr\u001b[39m(asarray(obj), method)(\u001b[38;5;241m*\u001b[39margs, \u001b[38;5;241m*\u001b[39m\u001b[38;5;241m*\u001b[39mkwds)\n\u001b[0;32m     44\u001b[0m \u001b[38;5;28;01mif\u001b[39;00m wrap:\n\u001b[0;32m     45\u001b[0m     \u001b[38;5;28;01mif\u001b[39;00m \u001b[38;5;129;01mnot\u001b[39;00m \u001b[38;5;28misinstance\u001b[39m(result, mu\u001b[38;5;241m.\u001b[39mndarray):\n",
      "\u001b[1;31mTypeError\u001b[0m: 'numpy.float64' object cannot be interpreted as an integer"
     ]
    }
   ],
   "source": [
    "\"\"\"\n",
    "CSCI 332\n",
    "Esther Lyon Delsordo\n",
    "Software Assignment #2\n",
    "Due December 10, 2022\n",
    "\n",
    "Implement Ford-Fulkerson Alg and use it to implement the image\n",
    "segmentation algorithm from Kelinberg-Tardos 7.10\n",
    "\n",
    "Test script for segmentationClass.py\n",
    "\"\"\"\n",
    "\n",
    "# Import numpy and pyplot\n",
    "import numpy as np\n",
    "import matplotlib.pyplot as plt\n",
    "\n",
    "# Import my image segmentation class\n",
    "import segmentationClass\n",
    "\n",
    "# load a test image FIXME\n",
    "# I = plt.imread(\"Louisfjellet25pixel.jpg\")\n",
    "\n",
    "# build test image FIXME\n",
    "# 3 x 3 with two red pixels, others valued zero\n",
    "I = np.zeros([3, 3, 3])\n",
    "I[2, 2, 0] = 128\n",
    "I[1, 2, 0] = 128\n",
    "\n",
    "# Make an image segmentation object\n",
    "# set segmentation object params inline FIXME\n",
    "sc = segmentationClass.segmentationClass(\n",
    "    p0=1,  # neigbor penalty\n",
    "    x_a=np.array([2, 2]),  # Foreground pixel position\n",
    "    x_b=np.array([0, 0]),  # Background pixel\n",
    ")\n",
    "\n",
    "# segment the image\n",
    "newI = sc.segmentImage(I)\n",
    "\n",
    "# Plot results\n",
    "fig, axs = plt.subplots(1, 2)\n",
    "fig.suptitle(\"Input and segmentation\")\n",
    "axs[0].imshow(I.astype(np.uint8), interpolation=\"nearest\")\n",
    "axs[0].set_title(\"Input image\")\n",
    "\n",
    "# scale 0s and 1s in output image to 0 or 255\n",
    "axs[1].imshow(255 * newI.astype(np.uint8), interpolation=\"nearest\")\n",
    "axs[1].set_title(\"Binary segmentation\")\n",
    "plt.show()\n"
   ]
  },
  {
   "cell_type": "code",
   "execution_count": 7,
   "id": "12a8fbd5",
   "metadata": {},
   "outputs": [
    {
     "data": {
      "text/plain": [
       "(3, 3, 3)"
      ]
     },
     "execution_count": 7,
     "metadata": {},
     "output_type": "execute_result"
    }
   ],
   "source": [
    "I.shape"
   ]
  },
  {
   "cell_type": "code",
   "execution_count": null,
   "id": "9954168a",
   "metadata": {},
   "outputs": [],
   "source": []
  }
 ],
 "metadata": {
  "kernelspec": {
   "display_name": "Python 3 (ipykernel)",
   "language": "python",
   "name": "python3"
  },
  "language_info": {
   "codemirror_mode": {
    "name": "ipython",
    "version": 3
   },
   "file_extension": ".py",
   "mimetype": "text/x-python",
   "name": "python",
   "nbconvert_exporter": "python",
   "pygments_lexer": "ipython3",
   "version": "3.9.12"
  }
 },
 "nbformat": 4,
 "nbformat_minor": 5
}
