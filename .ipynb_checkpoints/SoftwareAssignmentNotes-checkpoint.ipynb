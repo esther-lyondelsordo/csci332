{
 "cells": [
  {
   "cell_type": "code",
   "execution_count": 1,
   "id": "00591433",
   "metadata": {},
   "outputs": [],
   "source": [
    "import numpy as np\n",
    "import math"
   ]
  },
  {
   "cell_type": "code",
   "execution_count": 6,
   "id": "aa5b4e8e",
   "metadata": {},
   "outputs": [],
   "source": [
    "def merge(left, right):\n",
    "    arr = np.array([])\n",
    "\n",
    "    # append the smallest element from each array until one is empty\n",
    "    while len(left) != 0 and len(right) != 0:\n",
    "        if left[0] > right[0]:\n",
    "            arr = np.append(arr, right[0])\n",
    "            right = np.delete(right, 0)\n",
    "        else:\n",
    "            arr = np.append(arr, left[0])\n",
    "            left = np.delete(left, 0)\n",
    "\n",
    "    # If right is empty, we need to handle rest of left\n",
    "    while len(left) != 0:\n",
    "        arr = np.append(arr, left[0])\n",
    "        left = np.delete(left, 0)\n",
    "\n",
    "    # If left is empty, we need to handle rest of right\n",
    "    while len(right) != 0:\n",
    "        arr = np.append(arr, right[0])\n",
    "        right = np.delete(right, 0)\n",
    "\n",
    "    return arr\n",
    "\n",
    "# recursive mergesort algorithm\n",
    "def mergesort(a):\n",
    "    # Sort the values in array ‘a’ and return the sorted array ‘b’.\n",
    "    n = len(a)\n",
    "\n",
    "    # base case\n",
    "    if n == 1:\n",
    "        return a\n",
    "\n",
    "    # define some values\n",
    "    lo = 0\n",
    "    hi = n - 1\n",
    "    mid = lo + hi // 2\n",
    "\n",
    "    # build subarrays\n",
    "    left = a[lo:mid+1]\n",
    "    right = a[mid + 1 : hi+1]\n",
    "\n",
    "    # sort subarrays recursively\n",
    "    left = mergesort(left)\n",
    "    right = mergesort(right)\n",
    "\n",
    "    return merge(left, right)"
   ]
  },
  {
   "cell_type": "code",
   "execution_count": 7,
   "id": "e757a7b7",
   "metadata": {},
   "outputs": [],
   "source": [
    "A = np.array([9,4,5,10])"
   ]
  },
  {
   "cell_type": "code",
   "execution_count": 8,
   "id": "1f3af0b0",
   "metadata": {},
   "outputs": [
    {
     "name": "stdout",
     "output_type": "stream",
     "text": [
      "Starting merge\n",
      "first while loop\n",
      "second while loop\n",
      "Starting merge\n",
      "first while loop\n",
      "third while loop\n",
      "Starting merge\n",
      "first while loop\n",
      "first while loop\n",
      "first while loop\n",
      "third while loop\n"
     ]
    },
    {
     "data": {
      "text/plain": [
       "array([ 4.,  5.,  9., 10.])"
      ]
     },
     "execution_count": 8,
     "metadata": {},
     "output_type": "execute_result"
    }
   ],
   "source": [
    "Q = mergesort(A)\n",
    "Q"
   ]
  },
  {
   "cell_type": "code",
   "execution_count": 38,
   "id": "6fbf9b9a",
   "metadata": {},
   "outputs": [
    {
     "name": "stdout",
     "output_type": "stream",
     "text": [
      "{1: array([1]), 2: array([2]), 3: array([3]), 4: array([4])}\n"
     ]
    }
   ],
   "source": [
    "N = 4\n",
    "arrayOfNodes = np.array(range(1,N+1))\n",
    "newArray = np.split(arrayOfNodes, N)\n",
    "u = dict(list(enumerate(newArray, start = 1)))\n",
    "print(u)"
   ]
  },
  {
   "cell_type": "code",
   "execution_count": 8,
   "id": "acbc5411",
   "metadata": {},
   "outputs": [
    {
     "name": "stdout",
     "output_type": "stream",
     "text": [
      "{1: 1, 2: 2, 3: 3, 4: 4}\n"
     ]
    }
   ],
   "source": [
    "N = 4\n",
    "u = dict(list(enumerate(range(1,N+1), start = 1)))\n",
    "print(u)"
   ]
  },
  {
   "cell_type": "code",
   "execution_count": 8,
   "id": "735dbb67",
   "metadata": {},
   "outputs": [
    {
     "name": "stdout",
     "output_type": "stream",
     "text": [
      "0\n",
      "1\n"
     ]
    }
   ],
   "source": [
    "A = np.array([[0, 8, 0, 3],\n",
    "                [0, 0, 2, 5],\n",
    "                [0, 0, 0, 6],\n",
    "                [0, 0, 0, 0]])\n",
    "x,y = np.where(A==8)\n",
    "print(x[0])\n",
    "print(y[0])"
   ]
  },
  {
   "cell_type": "code",
   "execution_count": 30,
   "id": "824d2357",
   "metadata": {},
   "outputs": [],
   "source": [
    "def makeUnionFind(N):\n",
    "        # Make one big array of all of the nodes, named 0 to N-1\n",
    "        arrayOfNodes = np.array(range(N))\n",
    "\n",
    "        # Split the array into an array of arrays\n",
    "        newArray = np.split(arrayOfNodes, N)\n",
    "\n",
    "        # use the new array to make a dictionary,\n",
    "        # each key is the same number as the single array entry value\n",
    "        u = dict(list(enumerate(newArray, start=0)))\n",
    "\n",
    "        # If two nodes are connected, assign the parent to the representative node\n",
    "        return u\n",
    "\n",
    "def union(u_in, s1, s2):\n",
    "        # find the which set is smaller, rename sets for DRY code\n",
    "        if len(u_in[s1]) <= len(u_in[s2]):\n",
    "            small = s1\n",
    "            big = s2\n",
    "        else:\n",
    "            small = s2\n",
    "            big = s1\n",
    "\n",
    "        # copy elements of smaller set into larger set\n",
    "        u_in[big] = np.append(u_in[big], u_in[small][0:])\n",
    "\n",
    "        # change root of all elements in smaller set to root of larger set\n",
    "        for i in range(len(u_in[small])):\n",
    "            temp = u_in[small][i]\n",
    "            u_in[temp][0] = u_in[big][0]\n",
    "\n",
    "        # change name of smaller to name of larger set\n",
    "        u_in[small][0] = u_in[big][0]\n",
    "\n",
    "        # return the updated union-find data structure\n",
    "        u_out = u_in\n",
    "        return u_out\n",
    "\n",
    "def find(u, v):\n",
    "        s = -1\n",
    "        # the first element of the array at index v is the name of the root of that set\n",
    "        s = u[v][0]\n",
    "        print(s)\n",
    "        return s"
   ]
  },
  {
   "cell_type": "code",
   "execution_count": 31,
   "id": "96a423d9",
   "metadata": {},
   "outputs": [
    {
     "data": {
      "text/plain": [
       "{0: array([0]), 1: array([1]), 2: array([2]), 3: array([3]), 4: array([4])}"
      ]
     },
     "execution_count": 31,
     "metadata": {},
     "output_type": "execute_result"
    }
   ],
   "source": [
    "u = makeUnionFind(5)\n",
    "u"
   ]
  },
  {
   "cell_type": "code",
   "execution_count": 32,
   "id": "f2a830a8",
   "metadata": {},
   "outputs": [
    {
     "data": {
      "text/plain": [
       "{0: array([0]), 1: array([2]), 2: array([2, 1]), 3: array([3]), 4: array([4])}"
      ]
     },
     "execution_count": 32,
     "metadata": {},
     "output_type": "execute_result"
    }
   ],
   "source": [
    "q = union(u,1,2)\n",
    "q"
   ]
  },
  {
   "cell_type": "code",
   "execution_count": 35,
   "id": "cdb55b07",
   "metadata": {},
   "outputs": [
    {
     "data": {
      "text/plain": [
       "2"
      ]
     },
     "execution_count": 35,
     "metadata": {},
     "output_type": "execute_result"
    }
   ],
   "source": [
    "q.get(2)[0]"
   ]
  },
  {
   "cell_type": "code",
   "execution_count": null,
   "id": "f3783ba3",
   "metadata": {},
   "outputs": [],
   "source": []
  }
 ],
 "metadata": {
  "kernelspec": {
   "display_name": "Python 3 (ipykernel)",
   "language": "python",
   "name": "python3"
  },
  "language_info": {
   "codemirror_mode": {
    "name": "ipython",
    "version": 3
   },
   "file_extension": ".py",
   "mimetype": "text/x-python",
   "name": "python",
   "nbconvert_exporter": "python",
   "pygments_lexer": "ipython3",
   "version": "3.9.12"
  }
 },
 "nbformat": 4,
 "nbformat_minor": 5
}
