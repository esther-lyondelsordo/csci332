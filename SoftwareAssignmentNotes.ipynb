{
 "cells": [
  {
   "cell_type": "code",
   "execution_count": 1,
   "id": "00591433",
   "metadata": {},
   "outputs": [],
   "source": [
    "import numpy as np\n",
    "import math"
   ]
  },
  {
   "cell_type": "code",
   "execution_count": 6,
   "id": "aa5b4e8e",
   "metadata": {},
   "outputs": [],
   "source": [
    "def merge(left, right):\n",
    "    arr = np.array([])\n",
    "\n",
    "    # append the smallest element from each array until one is empty\n",
    "    while len(left) != 0 and len(right) != 0:\n",
    "        if left[0] > right[0]:\n",
    "            arr = np.append(arr, right[0])\n",
    "            right = np.delete(right, 0)\n",
    "        else:\n",
    "            arr = np.append(arr, left[0])\n",
    "            left = np.delete(left, 0)\n",
    "\n",
    "    # If right is empty, we need to handle rest of left\n",
    "    while len(left) != 0:\n",
    "        arr = np.append(arr, left[0])\n",
    "        left = np.delete(left, 0)\n",
    "\n",
    "    # If left is empty, we need to handle rest of right\n",
    "    while len(right) != 0:\n",
    "        arr = np.append(arr, right[0])\n",
    "        right = np.delete(right, 0)\n",
    "\n",
    "    return arr\n",
    "\n",
    "# recursive mergesort algorithm\n",
    "def mergesort(a):\n",
    "    # Sort the values in array ‘a’ and return the sorted array ‘b’.\n",
    "    n = len(a)\n",
    "\n",
    "    # base case\n",
    "    if n == 1:\n",
    "        return a\n",
    "\n",
    "    # define some values\n",
    "    lo = 0\n",
    "    hi = n - 1\n",
    "    mid = lo + hi // 2\n",
    "\n",
    "    # build subarrays\n",
    "    left = a[lo:mid+1]\n",
    "    right = a[mid + 1 : hi+1]\n",
    "\n",
    "    # sort subarrays recursively\n",
    "    left = mergesort(left)\n",
    "    right = mergesort(right)\n",
    "\n",
    "    return merge(left, right)"
   ]
  },
  {
   "cell_type": "code",
   "execution_count": 7,
   "id": "e757a7b7",
   "metadata": {},
   "outputs": [],
   "source": [
    "A = np.array([9,4,5,10])"
   ]
  },
  {
   "cell_type": "code",
   "execution_count": 8,
   "id": "1f3af0b0",
   "metadata": {},
   "outputs": [
    {
     "name": "stdout",
     "output_type": "stream",
     "text": [
      "Starting merge\n",
      "first while loop\n",
      "second while loop\n",
      "Starting merge\n",
      "first while loop\n",
      "third while loop\n",
      "Starting merge\n",
      "first while loop\n",
      "first while loop\n",
      "first while loop\n",
      "third while loop\n"
     ]
    },
    {
     "data": {
      "text/plain": [
       "array([ 4.,  5.,  9., 10.])"
      ]
     },
     "execution_count": 8,
     "metadata": {},
     "output_type": "execute_result"
    }
   ],
   "source": [
    "Q = mergesort(A)\n",
    "Q"
   ]
  },
  {
   "cell_type": "code",
   "execution_count": 38,
   "id": "6fbf9b9a",
   "metadata": {},
   "outputs": [
    {
     "name": "stdout",
     "output_type": "stream",
     "text": [
      "{1: array([1]), 2: array([2]), 3: array([3]), 4: array([4])}\n"
     ]
    }
   ],
   "source": [
    "N = 4\n",
    "arrayOfNodes = np.array(range(1,N+1))\n",
    "newArray = np.split(arrayOfNodes, N)\n",
    "u = dict(list(enumerate(newArray, start = 1)))\n",
    "print(u)"
   ]
  },
  {
   "cell_type": "code",
   "execution_count": 8,
   "id": "acbc5411",
   "metadata": {},
   "outputs": [
    {
     "name": "stdout",
     "output_type": "stream",
     "text": [
      "{1: 1, 2: 2, 3: 3, 4: 4}\n"
     ]
    }
   ],
   "source": [
    "N = 4\n",
    "u = dict(list(enumerate(range(1,N+1), start = 1)))\n",
    "print(u)"
   ]
  },
  {
   "cell_type": "code",
   "execution_count": null,
   "id": "735dbb67",
   "metadata": {},
   "outputs": [],
   "source": []
  },
  {
   "cell_type": "code",
   "execution_count": null,
   "id": "824d2357",
   "metadata": {},
   "outputs": [],
   "source": []
  }
 ],
 "metadata": {
  "kernelspec": {
   "display_name": "Python 3 (ipykernel)",
   "language": "python",
   "name": "python3"
  },
  "language_info": {
   "codemirror_mode": {
    "name": "ipython",
    "version": 3
   },
   "file_extension": ".py",
   "mimetype": "text/x-python",
   "name": "python",
   "nbconvert_exporter": "python",
   "pygments_lexer": "ipython3",
   "version": "3.9.12"
  }
 },
 "nbformat": 4,
 "nbformat_minor": 5
}
